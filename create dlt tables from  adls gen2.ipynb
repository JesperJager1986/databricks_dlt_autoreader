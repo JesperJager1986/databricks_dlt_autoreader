{
 "cells": [
  {
   "cell_type": "code",
   "execution_count": 0,
   "metadata": {
    "application/vnd.databricks.v1+cell": {
     "cellMetadata": {
      "byteLimit": 2048000,
      "rowLimit": 10000
     },
     "inputWidgets": {},
     "nuid": "fb96edcb-460b-4695-b64a-7f6421e6f309",
     "showTitle": false,
     "tableResultSettingsMap": {},
     "title": ""
    }
   },
   "outputs": [],
   "source": [
    "\n",
    "# 1) Create the storage account\n",
    "# 2) create the service principal\n",
    "# 3) give IAM to the servive principal\n",
    "\n",
    "\n",
    "# Define the configuration for mounting\n",
    "spark.conf.set(\"spark.databricks.acl.data.frame.enforcement\", \"true\")\n",
    "\n",
    "# Define your ADLS details\n",
    "storage_account_name = \"datafordatabricks\"\n",
    "container_name = \"example-container\"\n",
    "mount_point = \"/mnt/adls_mount\"\n",
    "\n",
    "# Use a service principal for authentication\n",
    "client_id = \"cbe188a5-c7ac-4a04-af84-733f70d498f3\"\n",
    "client_secret = \"\"\n",
    "tenant_id = \"fad980a9-3948-48d2-86f5-f2a51108c262\"\n",
    "\n",
    "# Set the necessary configs\n",
    "spark.conf.set(f\"spark.hadoop.fs.azure.account.auth.type.{storage_account_name}.dfs.core.windows.net\", \"OAuth\")\n",
    "spark.conf.set(f\"spark.hadoop.fs.azure.account.oauth.provider.type.{storage_account_name}.dfs.core.windows.net\", \"org.apache.hadoop.fs.azurebfs.oauth2.ClientCredsTokenProvider\")\n",
    "spark.conf.set(f\"spark.hadoop.fs.azure.account.oauth2.client.id.{storage_account_name}.dfs.core.windows.net\", client_id)\n",
    "spark.conf.set(f\"spark.hadoop.fs.azure.account.oauth2.client.secret.{storage_account_name}.dfs.core.windows.net\", client_secret)\n",
    "spark.conf.set(f\"spark.hadoop.fs.azure.account.oauth2.client.endpoint.{storage_account_name}.dfs.core.windows.net\", f\"https://login.microsoftonline.com/{tenant_id}/oauth2/token\")\n",
    "\n",
    "\n",
    "configs = {\"fs.azure.account.auth.type\": \"OAuth\",\n",
    "          \"fs.azure.account.oauth.provider.type\": \"org.apache.hadoop.fs.azurebfs.oauth2.ClientCredsTokenProvider\",\n",
    "          \"fs.azure.account.oauth2.client.id\": \"cbe188a5-c7ac-4a04-af84-733f70d498f3\",\n",
    "          \"fs.azure.account.oauth2.client.secret\": client_secret,\n",
    "          \"fs.azure.account.oauth2.client.endpoint\": \"https://login.microsoftonline.com/fad980a9-3948-48d2-86f5-f2a51108c262/oauth2/token\"}\n",
    "\n",
    "# Optionally, you can add <directory-name> to the source URI of your mount point.\n",
    "dbutils.fs.mount(\n",
    "  source = f\"abfss://{container_name}@{storage_account_name}.dfs.core.windows.net/\",\n",
    "  mount_point = \"/mnt/adls\",\n",
    "  extra_configs = configs)\n",
    "\n"
   ]
  },
  {
   "cell_type": "code",
   "execution_count": 0,
   "metadata": {
    "application/vnd.databricks.v1+cell": {
     "cellMetadata": {
      "byteLimit": 2048000,
      "rowLimit": 10000
     },
     "inputWidgets": {},
     "nuid": "58f4d434-674b-4095-8ea8-ee741df55a8c",
     "showTitle": false,
     "tableResultSettingsMap": {},
     "title": ""
    }
   },
   "outputs": [],
   "source": [
    "client_id"
   ]
  }
 ],
 "metadata": {
  "application/vnd.databricks.v1+notebook": {
   "computePreferences": null,
   "dashboards": [],
   "environmentMetadata": {
    "base_environment": "",
    "client": "1"
   },
   "language": "python",
   "notebookMetadata": {
    "pythonIndentUnit": 4
   },
   "notebookName": "create dlt tables from  adls gen2",
   "widgets": {}
  },
  "language_info": {
   "name": "python"
  }
 },
 "nbformat": 4,
 "nbformat_minor": 0
}
