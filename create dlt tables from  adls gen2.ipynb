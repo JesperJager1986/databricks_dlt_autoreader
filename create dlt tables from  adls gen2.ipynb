{
 "cells": [
  {
   "cell_type": "code",
   "execution_count": 0,
   "metadata": {
    "application/vnd.databricks.v1+cell": {
     "cellMetadata": {
      "byteLimit": 2048000,
      "rowLimit": 10000
     },
     "inputWidgets": {},
     "nuid": "fb96edcb-460b-4695-b64a-7f6421e6f309",
     "showTitle": false,
     "tableResultSettingsMap": {},
     "title": ""
    }
   },
   "outputs": [],
   "source": [
    "\n",
    "# 1) Create the storage account\n",
    "# 2) create the service principal\n",
    "# 3) give IAM to the servive principal\n",
    "\n",
    "\n",
    "# Define the configuration for mounting\n",
    "spark.conf.set(\"spark.databricks.acl.data.frame.enforcement\", \"true\")\n",
    "\n",
    "# Define your ADLS details\n",
    "storage_account_name = \"datafordatabricks\"\n",
    "container_name = \"example-container\"\n",
    "mount_point = \"/mnt/adls_mount2\"\n",
    "\n",
    "# Use a service principal for authentication\n",
    "client_id = \"cbe188a5-c7ac-4a04-af84-733f70d498f3\"\n",
    "client_secret = \"\"\n",
    "tenant_id = \"fad980a9-3948-48d2-86f5-f2a51108c262\"\n",
    "\n",
    "# Set the necessary configs\n",
    "spark.conf.set(f\"spark.hadoop.fs.azure.account.auth.type.{storage_account_name}.dfs.core.windows.net\", \"OAuth\")\n",
    "spark.conf.set(f\"spark.hadoop.fs.azure.account.oauth.provider.type.{storage_account_name}.dfs.core.windows.net\", \"org.apache.hadoop.fs.azurebfs.oauth2.ClientCredsTokenProvider\")\n",
    "spark.conf.set(f\"spark.hadoop.fs.azure.account.oauth2.client.id.{storage_account_name}.dfs.core.windows.net\", client_id)\n",
    "spark.conf.set(f\"spark.hadoop.fs.azure.account.oauth2.client.secret.{storage_account_name}.dfs.core.windows.net\", client_secret)\n",
    "spark.conf.set(f\"spark.hadoop.fs.azure.account.oauth2.client.endpoint.{storage_account_name}.dfs.core.windows.net\", f\"https://login.microsoftonline.com/{tenant_id}/oauth2/token\")\n",
    "\n",
    "\n",
    "configs = {\"fs.azure.account.auth.type\": \"OAuth\",\n",
    "          \"fs.azure.account.oauth.provider.type\": \"org.apache.hadoop.fs.azurebfs.oauth2.ClientCredsTokenProvider\",\n",
    "          \"fs.azure.account.oauth2.client.id\": \"cbe188a5-c7ac-4a04-af84-733f70d498f3\",\n",
    "          \"fs.azure.account.oauth2.client.secret\": client_secret,\n",
    "          \"fs.azure.account.oauth2.client.endpoint\": \"https://login.microsoftonline.com/fad980a9-3948-48d2-86f5-f2a51108c262/oauth2/token\"}\n",
    "\n",
    "# Optionally, you can add <directory-name> to the source URI of your mount point.\n",
    "dbutils.fs.mount(\n",
    "  source = f\"abfss://{container_name}@{storage_account_name}.dfs.core.windows.net/\",\n",
    "  mount_point = mount_point,\n",
    "  extra_configs = configs)\n",
    "\n",
    "print(f\"Files in {mount_point}:\")\n",
    "files = dbutils.fs.ls(mount_point)\n",
    "for file in files:\n",
    "    print(f\"Name: {file.name}, Path: {file.path}, Is Directory: {file.isDir}\")\n"
   ]
  },
  {
   "cell_type": "code",
   "execution_count": 0,
   "metadata": {
    "application/vnd.databricks.v1+cell": {
     "cellMetadata": {
      "byteLimit": 2048000,
      "rowLimit": 10000
     },
     "inputWidgets": {},
     "nuid": "58f4d434-674b-4095-8ea8-ee741df55a8c",
     "showTitle": false,
     "tableResultSettingsMap": {},
     "title": ""
    }
   },
   "outputs": [],
   "source": [
    "display(dbutils.fs.ls(mount_point))"
   ]
  },
  {
   "cell_type": "code",
   "execution_count": 0,
   "metadata": {
    "application/vnd.databricks.v1+cell": {
     "cellMetadata": {
      "byteLimit": 2048000,
      "rowLimit": 10000
     },
     "inputWidgets": {},
     "nuid": "18e5ff4a-d8fe-4809-8ff0-84507a429f7f",
     "showTitle": false,
     "tableResultSettingsMap": {},
     "title": ""
    }
   },
   "outputs": [],
   "source": [
    "import dlt\n",
    "from pyspark.sql.functions import col\n",
    "\n",
    "# Step 1: Define the raw data source\n",
    "@dlt.table(\n",
    "    comment=\"This table reads raw data from the mounted ADLS Gen2 path.\"\n",
    ")\n",
    "def raw_data():\n",
    "    return (\n",
    "        spark.read.format(\"csv\")  # Change to the appropriate file format (e.g., parquet, json).\n",
    "        .option(\"header\", True)\n",
    "        .load(mount_point)  # Replace with your specific folder in the mount.\n",
    "    )"
   ]
  },
  {
   "cell_type": "code",
   "execution_count": 0,
   "metadata": {
    "application/vnd.databricks.v1+cell": {
     "cellMetadata": {
      "byteLimit": 2048000,
      "rowLimit": 10000
     },
     "inputWidgets": {},
     "nuid": "8da42baa-537a-447c-b902-86d8da8c0b1d",
     "showTitle": false,
     "tableResultSettingsMap": {},
     "title": ""
    }
   },
   "outputs": [],
   "source": [
    "mnt_path = \"/mnt/\"\n",
    "\n",
    "# List the files and directories in the mounted path\n",
    "files = dbutils.fs.ls(mnt_path)\n",
    "\n",
    "# Print the names of the files and directories\n",
    "for file in files:\n",
    "    print(f\"Name: {file.name}, Path: {file.path}, Is Directory: {file.isDir}\")"
   ]
  }
 ],
 "metadata": {
  "application/vnd.databricks.v1+notebook": {
   "computePreferences": null,
   "dashboards": [],
   "environmentMetadata": {
    "base_environment": "",
    "client": "1"
   },
   "language": "python",
   "notebookMetadata": {
    "pythonIndentUnit": 4
   },
   "notebookName": "create dlt tables from  adls gen2",
   "widgets": {}
  },
  "language_info": {
   "name": "python"
  }
 },
 "nbformat": 4,
 "nbformat_minor": 0
}
