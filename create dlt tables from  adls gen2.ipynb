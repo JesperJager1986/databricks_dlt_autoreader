{
 "cells": [
  {
   "cell_type": "code",
   "execution_count": 0,
   "metadata": {
    "application/vnd.databricks.v1+cell": {
     "cellMetadata": {},
     "inputWidgets": {},
     "nuid": "fb96edcb-460b-4695-b64a-7f6421e6f309",
     "showTitle": false,
     "tableResultSettingsMap": {},
     "title": ""
    }
   },
   "outputs": [],
   "source": [
    "# Define the configuration for mounting\n",
    "spark.conf.set(\"spark.databricks.acl.data.frame.enforcement\", \"true\")\n",
    "\n",
    "# Define your ADLS details\n",
    "storage_account_name = \"<your_storage_account_name>\"\n",
    "container_name = \"<your_container_name>\"\n",
    "mount_point = \"/mnt/adls_mount\"\n",
    "\n",
    "# Use a service principal for authentication\n",
    "client_id = dbutils.secrets.get(scope=\"adls-secrets\", key=\"client-id\")\n",
    "client_secret = dbutils.secrets.get(scope=\"adls-secrets\", key=\"client-secret\")\n",
    "tenant_id = dbutils.secrets.get(scope=\"adls-secrets\", key=\"tenant-id\")\n",
    "\n",
    "# Set the necessary configs\n",
    "spark.conf.set(f\"spark.hadoop.fs.azure.account.auth.type.{storage_account_name}.dfs.core.windows.net\", \"OAuth\")\n",
    "spark.conf.set(f\"spark.hadoop.fs.azure.account.oauth.provider.type.{storage_account_name}.dfs.core.windows.net\", \"org.apache.hadoop.fs.azurebfs.oauth2.ClientCredsTokenProvider\")\n",
    "spark.conf.set(f\"spark.hadoop.fs.azure.account.oauth2.client.id.{storage_account_name}.dfs.core.windows.net\", client_id)\n",
    "spark.conf.set(f\"spark.hadoop.fs.azure.account.oauth2.client.secret.{storage_account_name}.dfs.core.windows.net\", client_secret)\n",
    "spark.conf.set(f\"spark.hadoop.fs.azure.account.oauth2.client.endpoint.{storage_account_name}.dfs.core.windows.net\", f\"https://login.microsoftonline.com/{tenant_id}/oauth2/token\")\n",
    "\n",
    "# Mount the ADLS Gen2 container to Databricks\n",
    "dbutils.fs.mount(\n",
    "  source = f\"abfss://{container_name}@{storage_account_name}.dfs.core.windows.net/\",\n",
    "  mount_point = mount_point,\n",
    "  extra_configs = {\"spark.hadoop.fs.azure\" : \"org.apache.hadoop.fs.azure.NativeAzureFileSystem\"}\n",
    ")\n"
   ]
  }
 ],
 "metadata": {
  "application/vnd.databricks.v1+notebook": {
   "computePreferences": null,
   "dashboards": [],
   "environmentMetadata": {
    "base_environment": "",
    "client": "1"
   },
   "language": "python",
   "notebookMetadata": {
    "pythonIndentUnit": 4
   },
   "notebookName": "create dlt tables from  adls gen2",
   "widgets": {}
  },
  "language_info": {
   "name": "python"
  }
 },
 "nbformat": 4,
 "nbformat_minor": 0
}
