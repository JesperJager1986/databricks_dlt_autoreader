{
 "cells": [
  {
   "cell_type": "code",
   "execution_count": 0,
   "metadata": {
    "application/vnd.databricks.v1+cell": {
     "cellMetadata": {
      "byteLimit": 2048000,
      "rowLimit": 10000
     },
     "inputWidgets": {},
     "nuid": "af622e72-ac9b-4c1e-86e8-4e6219307da6",
     "showTitle": false,
     "tableResultSettingsMap": {},
     "title": ""
    }
   },
   "outputs": [],
   "source": [
    "import dlt\n",
    "from pyspark.sql.functions import col\n",
    "\n",
    "# Step 1: Define the raw data source\n",
    "@dlt.table(\n",
    "    comment=\"This table reads raw data from the mounted ADLS Gen2 path.\"\n",
    ")\n",
    "def raw_data():\n",
    "    return (\n",
    "        spark.read.format(\"csv\")  # Change to the appropriate file format (e.g., parquet, json).\n",
    "        .option(\"header\", True)\n",
    "        .load(\"/mnt/adls_mount2\")  # Replace with your specific folder in the mount.\n",
    "    )"
   ]
  }
 ],
 "metadata": {
  "application/vnd.databricks.v1+notebook": {
   "computePreferences": null,
   "dashboards": [],
   "environmentMetadata": {
    "base_environment": "",
    "client": "1"
   },
   "language": "python",
   "notebookMetadata": {
    "pythonIndentUnit": 4
   },
   "notebookName": "run dlt",
   "widgets": {}
  },
  "language_info": {
   "name": "python"
  }
 },
 "nbformat": 4,
 "nbformat_minor": 0
}
